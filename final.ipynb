{
 "cells": [
  {
   "cell_type": "code",
   "execution_count": 19,
   "metadata": {},
   "outputs": [],
   "source": [
    "# Data Privacy Final Project\n",
    "# Jordan Bourdeau, Casey Forey\n",
    "import pandas as pd\n",
    "import os\n",
    "import requests\n",
    "import zipfile"
   ]
  },
  {
   "cell_type": "code",
   "execution_count": 20,
   "metadata": {},
   "outputs": [
    {
     "name": "stdout",
     "output_type": "stream",
     "text": [
      "Zip file extracted.\n"
     ]
    },
    {
     "name": "stderr",
     "output_type": "stream",
     "text": [
      "C:\\Users\\jorda\\AppData\\Local\\Temp\\ipykernel_30464\\2118373493.py:20: DtypeWarning: Columns (33,35,38) have mixed types. Specify dtype option on import or set low_memory=False.\n",
      "  df = pd.read_csv(file_path)\n"
     ]
    },
    {
     "name": "stdout",
     "output_type": "stream",
     "text": [
      "Data read in.\n"
     ]
    }
   ],
   "source": [
    "url: str = \"https://jbourde2.w3.uvm.edu/data-privacy/data.zip\"\n",
    "file_path: str = \"data/powerlifting-data.csv\"\n",
    "\n",
    "# If the .zip file doesn't already exist, download it from the Silk server.\n",
    "if not os.path.exists(\"data.zip\"):\n",
    "    try:\n",
    "        r = requests.get(url, allow_redirects=True)\n",
    "        print(\"Downloading zip file from server.\")\n",
    "        open(\"data.zip\", \"wb\").write(r.content)\n",
    "        print(\"Zip file downloaded from server.\")\n",
    "    except Exception as e:\n",
    "        print(e)\n",
    "        print(\"Unable to download zip file from remote server.\")\n",
    "        exit(1)\n",
    "\n",
    "# If the data folder doesn't already exist, unzip the data zip\n",
    "if not os.path.exists(\"data/\"):\n",
    "    try:\n",
    "        with zipfile.ZipFile('data.zip') as zip:\n",
    "            zip.extractall()\n",
    "        print(\"Zip file extracted.\")\n",
    "        df = pd.read_csv(file_path)\n",
    "        print(\"Data read in.\")\n",
    "    except Exception as e:\n",
    "        print(e)\n",
    "        print(\"No zip file to extract from.\")\n",
    "        exit(1)\n"
   ]
  },
  {
   "cell_type": "code",
   "execution_count": null,
   "metadata": {},
   "outputs": [],
   "source": []
  }
 ],
 "metadata": {
  "kernelspec": {
   "display_name": "base",
   "language": "python",
   "name": "python3"
  },
  "language_info": {
   "codemirror_mode": {
    "name": "ipython",
    "version": 3
   },
   "file_extension": ".py",
   "mimetype": "text/x-python",
   "name": "python",
   "nbconvert_exporter": "python",
   "pygments_lexer": "ipython3",
   "version": "3.11.4"
  }
 },
 "nbformat": 4,
 "nbformat_minor": 2
}
