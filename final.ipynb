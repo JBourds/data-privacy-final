{
 "cells": [
  {
   "cell_type": "markdown",
   "metadata": {},
   "source": [
    "## Imports"
   ]
  },
  {
   "cell_type": "code",
   "execution_count": 6,
   "metadata": {},
   "outputs": [],
   "source": [
    "# Data Privacy Final Project\n",
    "# Jordan Bourdeau, Casey Forey\n",
    "import numpy as np\n",
    "import os\n",
    "import pandas as pd\n",
    "import requests\n",
    "from sklearn.linear_model import LogisticRegression\n",
    "import zipfile"
   ]
  },
  {
   "cell_type": "markdown",
   "metadata": {},
   "source": [
    "## Data"
   ]
  },
  {
   "cell_type": "code",
   "execution_count": 19,
   "metadata": {},
   "outputs": [
    {
     "name": "stdout",
     "output_type": "stream",
     "text": [
      "Dataframe already loaded\n",
      "Index(['Name', 'Sex', 'Event', 'Equipment', 'Age', 'AgeClass',\n",
      "       'BirthYearClass', 'Division', 'BodyweightKg', 'WeightClassKg',\n",
      "       'Squat1Kg', 'Squat2Kg', 'Squat3Kg', 'Squat4Kg', 'Best3SquatKg',\n",
      "       'Bench1Kg', 'Bench2Kg', 'Bench3Kg', 'Bench4Kg', 'Best3BenchKg',\n",
      "       'Deadlift1Kg', 'Deadlift2Kg', 'Deadlift3Kg', 'Deadlift4Kg',\n",
      "       'Best3DeadliftKg', 'TotalKg', 'Place', 'Dots', 'Wilks', 'Glossbrenner',\n",
      "       'Goodlift', 'Tested', 'Country', 'State', 'Federation',\n",
      "       'ParentFederation', 'Date', 'MeetCountry', 'MeetState', 'MeetTown',\n",
      "       'MeetName'],\n",
      "      dtype='object')\n",
      "Index(['Name', 'Sex', 'Event', 'Equipment', 'Age', 'Division', 'BodyweightKg',\n",
      "       'WeightClassKg', 'Squat1Kg', 'Squat2Kg', 'Squat3Kg', 'Squat4Kg',\n",
      "       'Best3SquatKg', 'Bench1Kg', 'Bench2Kg', 'Bench3Kg', 'Bench4Kg',\n",
      "       'Best3BenchKg', 'Deadlift1Kg', 'Deadlift2Kg', 'Deadlift3Kg',\n",
      "       'Deadlift4Kg', 'Best3DeadliftKg', 'TotalKg', 'Place', 'Tested',\n",
      "       'Country', 'State', 'Federation', 'Date'],\n",
      "      dtype='object')\n"
     ]
    }
   ],
   "source": [
    "url: str = \"https://jbourde2.w3.uvm.edu/data-privacy/data.zip\"\n",
    "file_path: str = \"data/powerlifting-data.csv\"\n",
    "\n",
    "\n",
    "# If the .zip file doesn't already exist, download it from the Silk server.\n",
    "if not os.path.exists(\"data.zip\"):\n",
    "    try:\n",
    "        r = requests.get(url, allow_redirects=True)\n",
    "        print(\"Downloading zip file from server\")\n",
    "        open(\"data.zip\", \"wb\").write(r.content)\n",
    "        print(\"Zip file downloaded from server\")\n",
    "    except Exception as e:\n",
    "        print(e)\n",
    "        print(\"Unable to download zip file from remote server\")\n",
    "        exit(1)\n",
    "\n",
    "# If the data folder doesn't already exist, unzip the data zip\n",
    "if not os.path.exists(\"data/\"):\n",
    "    try:\n",
    "        with zipfile.ZipFile('data.zip') as zip:\n",
    "            zip.extractall()\n",
    "        print(\"Zip file extracted\")\n",
    "        df = pd.read_csv(file_path)\n",
    "        print(\"Data read in\")\n",
    "    except Exception as e:\n",
    "        print(e)\n",
    "        print(\"No zip file to extract from\")\n",
    "        exit(1)\n",
    "\n",
    "if \"df\" not in locals():\n",
    "    print(\"Loading dataframe\")\n",
    "    df = pd.read_csv(file_path)\n",
    "    # Drop unneeded columns\n",
    "    print(df.columns)\n",
    "    df = df.drop([\"AgeClass\", \"BirthYearClass\", \"Dots\", \"Wilks\", \"Glossbrenner\", \"Goodlift\", \"ParentFederation\", \"MeetCountry\", \"MeetState\", \"MeetTown\", \"MeetName\"], axis=1)\n",
    "    print(df.columns)\n",
    "    print(\"Dataframe loaded\")\n",
    "else:\n",
    "    print(\"Dataframe already loaded\")"
   ]
  },
  {
   "cell_type": "markdown",
   "metadata": {},
   "source": [
    "## Algorithms "
   ]
  },
  {
   "cell_type": "code",
   "execution_count": 8,
   "metadata": {},
   "outputs": [],
   "source": [
    "\"\"\"\n",
    "Differentially private mechanisms.\n",
    "\"\"\"\n",
    "def laplace_mech(v, sensitivity, epsilon):\n",
    "    return v + np.random.laplace(loc=0, scale=sensitivity / epsilon)\n",
    "\n",
    "def gaussian_mech(v, sensitivity, epsilon, delta):\n",
    "    return v + np.random.normal(loc=0, scale=sensitivity * np.sqrt(2*np.log(1.25/delta)) / epsilon)\n",
    "\n",
    "def gaussian_mech_vec(vec, sensitivity, epsilon, delta):\n",
    "    return [v + np.random.normal(loc=0, scale=sensitivity * np.sqrt(2*np.log(1.25/delta)) / epsilon)\n",
    "            for v in vec]\n",
    "\n",
    "def gaussian_mech_RDP_vec(vec, sensitivity, alpha, epsilon):\n",
    "    sigma = np.sqrt((sensitivity**2 * alpha) / (2 * epsilon))\n",
    "    return [v + np.random.normal(loc=0, scale=sigma) for v in vec]\n",
    "\n",
    "def gaussian_mech_zCDP_vec(vec, sensitivity, rho):\n",
    "    sigma = np.sqrt((sensitivity**2) / (2 * rho))\n",
    "    return [v + np.random.normal(loc=0, scale=sigma) for v in vec]\n",
    "\n",
    "\n",
    "\"\"\" \n",
    "Machine learning functions (loss, gradient, noisy gradient descent).\n",
    "\"\"\"\n",
    "\n",
    "# The loss function measures how good our model is. The training goal is to minimize the loss.\n",
    "# This is the logistic loss function.\n",
    "def loss(theta, xi, yi):\n",
    "    exponent = - yi * (xi.dot(theta))\n",
    "    return np.log(1 + np.exp(exponent))\n",
    "\n",
    "# This is the gradient of the logistic loss\n",
    "# The gradient is a vector that indicates the rate of change of the loss in each direction\n",
    "def gradient(theta, xi, yi):\n",
    "    exponent = yi * (xi.dot(theta))\n",
    "    return - (yi*xi) / (1+np.exp(exponent))\n",
    "\n",
    "def avg_grad(theta, X, y):\n",
    "    grads = [gradient(theta, xi, yi) for xi, yi in zip(X, y)]\n",
    "    return np.mean(grads, axis=0)\n",
    "\n",
    "# Prediction: take a model (theta) and a single example (xi) and return its predicted label\n",
    "def predict(xi, theta, bias=0):\n",
    "    label = np.sign(xi @ theta + bias)\n",
    "    return label\n",
    "\n",
    "def accuracy(theta, X_test, y_test):\n",
    "    return np.sum(predict(X_test, theta) == y_test)/X_test.shape[0]\n",
    "\n",
    "# L2 Clipping\n",
    "def L2_clip(v, b):\n",
    "    norm = np.linalg.norm(v, ord=2)\n",
    "    \n",
    "    if norm > b:\n",
    "        return b * (v / norm)\n",
    "    else:\n",
    "        return v\n",
    "\n",
    "def gradient_sum(theta, X, y, b):\n",
    "    gradients = [L2_clip(gradient(theta, x_i, y_i), b) for x_i, y_i in zip(X,y)]\n",
    "        \n",
    "    # sum query\n",
    "    # L2 sensitivity is b (by clipping performed above)\n",
    "    return np.sum(gradients, axis=0)\n",
    "\n",
    "\"\"\"\n",
    "Noisy gradient descent algorithms.\n",
    "\"\"\"\n",
    "    \n",
    "# Noisy gradient descent\n",
    "# Satisfies (k*epsilon + epsilon, k*delta)-differential privacy\n",
    "def noisy_gradient_descent(X_train, y_train, iterations, epsilon, delta):\n",
    "    theta = np.zeros(X_train.shape[1])\n",
    "    b = 3\n",
    "\n",
    "    noisy_count = laplace_mech(X_train.shape[0], 1, epsilon)\n",
    "\n",
    "    for i in range(iterations):\n",
    "        clipped_gradient_sum = gradient_sum(theta, X_train, y_train, b)\n",
    "        noisy_gradient_sum = np.array(gaussian_mech_vec(clipped_gradient_sum, b, epsilon, delta))\n",
    "        noisy_avg_gradient = noisy_gradient_sum / noisy_count\n",
    "        theta = theta - noisy_avg_gradient\n",
    "\n",
    "    return theta\n",
    "\n",
    "def noisy_gradient_descent_RDP(X_train, y_train, iterations, alpha, epsilon_bar):\n",
    "    theta = np.zeros(X_train.shape[1])\n",
    "    b = 3\n",
    "    epsilon_bar_count = 0.05 * epsilon_bar\n",
    "    epsilon_bar_i = 0.95 * epsilon_bar / iterations\n",
    "    \n",
    "    noisy_count = gaussian_mech_RDP_vec([len(X_train)], 1, alpha, epsilon_bar_count)[0]\n",
    "\n",
    "    for i in range(iterations):\n",
    "        clipped_gradient_sum = gradient_sum(theta, X_train, y_train, b)\n",
    "        noisy_gradient_sum = np.array(gaussian_mech_RDP_vec(clipped_gradient_sum, b, alpha, epsilon_bar_i))\n",
    "        noisy_avg_gradient = noisy_gradient_sum / noisy_count\n",
    "        theta = theta - noisy_avg_gradient\n",
    "\n",
    "    return theta\n",
    "\n",
    "def noisy_gradient_descent_zCDP(X_train, y_train, iterations, rho):\n",
    "    theta = np.zeros(X_train.shape[1])\n",
    "    b = 3\n",
    "    rho_count = 0.05 * rho\n",
    "    rho_i = 0.95 * rho / iterations\n",
    "  \n",
    "    noisy_count = gaussian_mech_zCDP_vec([len(X_train)], 1, rho_count)[0]\n",
    "\n",
    "    for i in range(iterations):\n",
    "        clipped_gradient_sum = gradient_sum(theta, X_train, y_train, b)\n",
    "        noisy_gradient_sum = np.array(gaussian_mech_zCDP_vec(clipped_gradient_sum, b, rho_i))\n",
    "        noisy_avg_gradient = noisy_gradient_sum / noisy_count\n",
    "        theta = theta - noisy_avg_gradient\n",
    "\n",
    "    return theta"
   ]
  },
  {
   "cell_type": "markdown",
   "metadata": {},
   "source": [
    "## Work"
   ]
  },
  {
   "cell_type": "markdown",
   "metadata": {},
   "source": [
    "Predictive regression questions to answer:\n",
    "\n",
    "* Sex\n",
    "* Age\n",
    "* Successful 3rd attempt\n",
    "* Tested vs. untested\n",
    "* Federation\n",
    "* Equipment"
   ]
  },
  {
   "cell_type": "code",
   "execution_count": 13,
   "metadata": {},
   "outputs": [
    {
     "name": "stdout",
     "output_type": "stream",
     "text": [
      "Index(['Name', 'Sex', 'Event', 'Equipment', 'Age', 'AgeClass',\n",
      "       'BirthYearClass', 'Division', 'BodyweightKg', 'WeightClassKg',\n",
      "       'Squat1Kg', 'Squat2Kg', 'Squat3Kg', 'Squat4Kg', 'Best3SquatKg',\n",
      "       'Bench1Kg', 'Bench2Kg', 'Bench3Kg', 'Bench4Kg', 'Best3BenchKg',\n",
      "       'Deadlift1Kg', 'Deadlift2Kg', 'Deadlift3Kg', 'Deadlift4Kg',\n",
      "       'Best3DeadliftKg', 'TotalKg', 'Place', 'Dots', 'Wilks', 'Glossbrenner',\n",
      "       'Goodlift', 'Tested', 'Country', 'State', 'Federation',\n",
      "       'ParentFederation', 'Date', 'MeetCountry', 'MeetState', 'MeetTown',\n",
      "       'MeetName'],\n",
      "      dtype='object')\n"
     ]
    }
   ],
   "source": [
    "print(df.columns)"
   ]
  }
 ],
 "metadata": {
  "kernelspec": {
   "display_name": "base",
   "language": "python",
   "name": "python3"
  },
  "language_info": {
   "codemirror_mode": {
    "name": "ipython",
    "version": 3
   },
   "file_extension": ".py",
   "mimetype": "text/x-python",
   "name": "python",
   "nbconvert_exporter": "python",
   "pygments_lexer": "ipython3",
   "version": "3.11.4"
  }
 },
 "nbformat": 4,
 "nbformat_minor": 2
}
